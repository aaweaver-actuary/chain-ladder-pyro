{
 "cells": [
  {
   "cell_type": "code",
   "execution_count": 1,
   "metadata": {},
   "outputs": [],
   "source": [
    "import pyro\n",
    "import pyro.distributions as dist\n",
    "import polars as pl\n",
    "\n",
    "from pyro.infer import MCMC, NUTS\n",
    "from pyro.infer import Predictive"
   ]
  },
  {
   "cell_type": "code",
   "execution_count": 2,
   "metadata": {},
   "outputs": [
    {
     "data": {
      "text/html": [
       "<div>\n",
       "<style scoped>\n",
       "    .dataframe tbody tr th:only-of-type {\n",
       "        vertical-align: middle;\n",
       "    }\n",
       "\n",
       "    .dataframe tbody tr th {\n",
       "        vertical-align: top;\n",
       "    }\n",
       "\n",
       "    .dataframe thead th {\n",
       "        text-align: right;\n",
       "    }\n",
       "</style>\n",
       "<table border=\"1\" class=\"dataframe\">\n",
       "  <thead>\n",
       "    <tr style=\"text-align: right;\">\n",
       "      <th></th>\n",
       "      <th>ay</th>\n",
       "      <th>cy</th>\n",
       "      <th>dev</th>\n",
       "      <th>inc_loss</th>\n",
       "      <th>paid_loss</th>\n",
       "      <th>bulk_loss</th>\n",
       "      <th>earned_prem</th>\n",
       "      <th>rpt_loss</th>\n",
       "    </tr>\n",
       "  </thead>\n",
       "  <tbody>\n",
       "    <tr>\n",
       "      <th>0</th>\n",
       "      <td>1988</td>\n",
       "      <td>1988</td>\n",
       "      <td>1</td>\n",
       "      <td>295980</td>\n",
       "      <td>31447</td>\n",
       "      <td>167233</td>\n",
       "      <td>508339</td>\n",
       "      <td>128747</td>\n",
       "    </tr>\n",
       "    <tr>\n",
       "      <th>1</th>\n",
       "      <td>1988</td>\n",
       "      <td>1989</td>\n",
       "      <td>2</td>\n",
       "      <td>315210</td>\n",
       "      <td>87470</td>\n",
       "      <td>119272</td>\n",
       "      <td>508339</td>\n",
       "      <td>195938</td>\n",
       "    </tr>\n",
       "    <tr>\n",
       "      <th>2</th>\n",
       "      <td>1988</td>\n",
       "      <td>1990</td>\n",
       "      <td>3</td>\n",
       "      <td>338804</td>\n",
       "      <td>146807</td>\n",
       "      <td>97624</td>\n",
       "      <td>508339</td>\n",
       "      <td>241180</td>\n",
       "    </tr>\n",
       "    <tr>\n",
       "      <th>3</th>\n",
       "      <td>1988</td>\n",
       "      <td>1991</td>\n",
       "      <td>4</td>\n",
       "      <td>363137</td>\n",
       "      <td>220502</td>\n",
       "      <td>79690</td>\n",
       "      <td>508339</td>\n",
       "      <td>283447</td>\n",
       "    </tr>\n",
       "    <tr>\n",
       "      <th>4</th>\n",
       "      <td>1988</td>\n",
       "      <td>1992</td>\n",
       "      <td>5</td>\n",
       "      <td>346240</td>\n",
       "      <td>256564</td>\n",
       "      <td>48838</td>\n",
       "      <td>508339</td>\n",
       "      <td>297402</td>\n",
       "    </tr>\n",
       "  </tbody>\n",
       "</table>\n",
       "</div>"
      ],
      "text/plain": [
       "     ay    cy  dev  inc_loss  paid_loss  bulk_loss  earned_prem  rpt_loss\n",
       "0  1988  1988    1    295980      31447     167233       508339    128747\n",
       "1  1988  1989    2    315210      87470     119272       508339    195938\n",
       "2  1988  1990    3    338804     146807      97624       508339    241180\n",
       "3  1988  1991    4    363137     220502      79690       508339    283447\n",
       "4  1988  1992    5    346240     256564      48838       508339    297402"
      ]
     },
     "execution_count": 2,
     "metadata": {},
     "output_type": "execute_result"
    }
   ],
   "source": [
    "df = pl.read_parquet(\"ol_loss.parquet\").to_pandas()\n",
    "df.head()"
   ]
  },
  {
   "cell_type": "code",
   "execution_count": 3,
   "metadata": {},
   "outputs": [],
   "source": [
    "%run model.py"
   ]
  },
  {
   "cell_type": "code",
   "execution_count": 4,
   "metadata": {},
   "outputs": [
    {
     "ename": "AttributeError",
     "evalue": "module 'pyro.distributions' has no attribute 'Tweedie'",
     "output_type": "error",
     "traceback": [
      "\u001b[0;31m---------------------------------------------------------------------------\u001b[0m",
      "\u001b[0;31mAttributeError\u001b[0m                            Traceback (most recent call last)",
      "\u001b[1;32m/home/andy/data/share/Code/chain-ladder-pyro/model.ipynb Cell 4\u001b[0m line \u001b[0;36m1\n\u001b[0;32m----> <a href='vscode-notebook-cell://ssh-remote%2Bweaver-net/home/andy/data/share/Code/chain-ladder-pyro/model.ipynb#W4sdnNjb2RlLXJlbW90ZQ%3D%3D?line=0'>1</a>\u001b[0m run_model(ultimate_loss_model(w\u001b[39m=\u001b[39;49mdf\u001b[39m.\u001b[39;49may,\n\u001b[1;32m      <a href='vscode-notebook-cell://ssh-remote%2Bweaver-net/home/andy/data/share/Code/chain-ladder-pyro/model.ipynb#W4sdnNjb2RlLXJlbW90ZQ%3D%3D?line=1'>2</a>\u001b[0m                                         d\u001b[39m=\u001b[39;49mdf\u001b[39m.\u001b[39;49mdev,\n\u001b[1;32m      <a href='vscode-notebook-cell://ssh-remote%2Bweaver-net/home/andy/data/share/Code/chain-ladder-pyro/model.ipynb#W4sdnNjb2RlLXJlbW90ZQ%3D%3D?line=2'>3</a>\u001b[0m                                         premium\u001b[39m=\u001b[39;49mdf\u001b[39m.\u001b[39;49mearned_prem,\n\u001b[1;32m      <a href='vscode-notebook-cell://ssh-remote%2Bweaver-net/home/andy/data/share/Code/chain-ladder-pyro/model.ipynb#W4sdnNjb2RlLXJlbW90ZQ%3D%3D?line=3'>4</a>\u001b[0m                                         reported_loss\u001b[39m=\u001b[39;49mdf\u001b[39m.\u001b[39;49mrpt_loss,\n\u001b[1;32m      <a href='vscode-notebook-cell://ssh-remote%2Bweaver-net/home/andy/data/share/Code/chain-ladder-pyro/model.ipynb#W4sdnNjb2RlLXJlbW90ZQ%3D%3D?line=4'>5</a>\u001b[0m                                         paid_loss\u001b[39m=\u001b[39;49mdf\u001b[39m.\u001b[39;49mpaid_loss,\n\u001b[1;32m      <a href='vscode-notebook-cell://ssh-remote%2Bweaver-net/home/andy/data/share/Code/chain-ladder-pyro/model.ipynb#W4sdnNjb2RlLXJlbW90ZQ%3D%3D?line=5'>6</a>\u001b[0m                                         reported_counts\u001b[39m=\u001b[39;49mdf\u001b[39m.\u001b[39;49mrpt_loss \u001b[39m/\u001b[39;49m\u001b[39m/\u001b[39;49m (df\u001b[39m.\u001b[39;49mrpt_loss \u001b[39m/\u001b[39;49m \u001b[39m1000\u001b[39;49m),\n\u001b[1;32m      <a href='vscode-notebook-cell://ssh-remote%2Bweaver-net/home/andy/data/share/Code/chain-ladder-pyro/model.ipynb#W4sdnNjb2RlLXJlbW90ZQ%3D%3D?line=6'>7</a>\u001b[0m                                         closed_counts\u001b[39m=\u001b[39;49mdf\u001b[39m.\u001b[39;49mpaid_loss \u001b[39m/\u001b[39;49m\u001b[39m/\u001b[39;49m (df\u001b[39m.\u001b[39;49mpaid_loss \u001b[39m/\u001b[39;49m \u001b[39m1000\u001b[39;49m)))\n",
      "File \u001b[0;32m/data/share/Code/chain-ladder-pyro/model.py:38\u001b[0m, in \u001b[0;36multimate_loss_model\u001b[0;34m(w, d, premium, reported_loss, paid_loss, reported_counts, closed_counts)\u001b[0m\n\u001b[1;32m     33\u001b[0m power_ult_severity \u001b[39m=\u001b[39m pyro\u001b[39m.\u001b[39msample(\u001b[39m'\u001b[39m\u001b[39mpower_ult_severity\u001b[39m\u001b[39m'\u001b[39m,\n\u001b[1;32m     34\u001b[0m                                  dist\u001b[39m.\u001b[39mUniform(\u001b[39m1\u001b[39m, \u001b[39m3\u001b[39m))\n\u001b[1;32m     36\u001b[0m \u001b[39m# Priors\u001b[39;00m\n\u001b[1;32m     37\u001b[0m ultimate_loss \u001b[39m=\u001b[39m pyro\u001b[39m.\u001b[39msample(\u001b[39m'\u001b[39m\u001b[39multimate_loss\u001b[39m\u001b[39m'\u001b[39m,\n\u001b[0;32m---> 38\u001b[0m                             dist\u001b[39m.\u001b[39;49mTweedie(power_ult_loss, prior_ultimate_loss))\n\u001b[1;32m     39\u001b[0m ultimate_counts \u001b[39m=\u001b[39m pyro\u001b[39m.\u001b[39msample(\u001b[39m'\u001b[39m\u001b[39multimate_counts\u001b[39m\u001b[39m'\u001b[39m,\n\u001b[1;32m     40\u001b[0m                               dist\u001b[39m.\u001b[39mTweedie(power_ult_counts, prior_ultimate_counts))\n\u001b[1;32m     42\u001b[0m \u001b[39m# Severity ultimate - ultimate loss / ultimate counts\u001b[39;00m\n",
      "\u001b[0;31mAttributeError\u001b[0m: module 'pyro.distributions' has no attribute 'Tweedie'"
     ]
    }
   ],
   "source": [
    "run_model(ultimate_loss_model(w=df.ay,\n",
    "                                        d=df.dev,\n",
    "                                        premium=df.earned_prem,\n",
    "                                        reported_loss=df.rpt_loss,\n",
    "                                        paid_loss=df.paid_loss,\n",
    "                                        reported_counts=df.rpt_loss // (df.rpt_loss / 1000),\n",
    "                                        closed_counts=df.paid_loss // (df.paid_loss / 1000)))"
   ]
  }
 ],
 "metadata": {
  "kernelspec": {
   "display_name": ".env",
   "language": "python",
   "name": "python3"
  },
  "language_info": {
   "codemirror_mode": {
    "name": "ipython",
    "version": 3
   },
   "file_extension": ".py",
   "mimetype": "text/x-python",
   "name": "python",
   "nbconvert_exporter": "python",
   "pygments_lexer": "ipython3",
   "version": "3.11.4"
  }
 },
 "nbformat": 4,
 "nbformat_minor": 2
}
