{
 "cells": [
  {
   "cell_type": "code",
   "execution_count": 1,
   "metadata": {},
   "outputs": [],
   "source": [
    "import pandas as pd"
   ]
  },
  {
   "cell_type": "code",
   "execution_count": 11,
   "metadata": {},
   "outputs": [
    {
     "data": {
      "text/html": [
       "<div>\n",
       "<style scoped>\n",
       "    .dataframe tbody tr th:only-of-type {\n",
       "        vertical-align: middle;\n",
       "    }\n",
       "\n",
       "    .dataframe tbody tr th {\n",
       "        vertical-align: top;\n",
       "    }\n",
       "\n",
       "    .dataframe thead th {\n",
       "        text-align: right;\n",
       "    }\n",
       "</style>\n",
       "<table border=\"1\" class=\"dataframe\">\n",
       "  <thead>\n",
       "    <tr style=\"text-align: right;\">\n",
       "      <th></th>\n",
       "      <th>ay</th>\n",
       "      <th>cy</th>\n",
       "      <th>dev</th>\n",
       "      <th>inc_loss</th>\n",
       "      <th>paid_loss</th>\n",
       "      <th>bulk_loss</th>\n",
       "      <th>earned_prem</th>\n",
       "      <th>rpt_loss</th>\n",
       "    </tr>\n",
       "  </thead>\n",
       "  <tbody>\n",
       "    <tr>\n",
       "      <th>0</th>\n",
       "      <td>1988</td>\n",
       "      <td>1988</td>\n",
       "      <td>1</td>\n",
       "      <td>295980</td>\n",
       "      <td>31447</td>\n",
       "      <td>167233</td>\n",
       "      <td>508339</td>\n",
       "      <td>128747</td>\n",
       "    </tr>\n",
       "    <tr>\n",
       "      <th>1</th>\n",
       "      <td>1988</td>\n",
       "      <td>1989</td>\n",
       "      <td>2</td>\n",
       "      <td>315210</td>\n",
       "      <td>87470</td>\n",
       "      <td>119272</td>\n",
       "      <td>508339</td>\n",
       "      <td>195938</td>\n",
       "    </tr>\n",
       "    <tr>\n",
       "      <th>2</th>\n",
       "      <td>1988</td>\n",
       "      <td>1990</td>\n",
       "      <td>3</td>\n",
       "      <td>338804</td>\n",
       "      <td>146807</td>\n",
       "      <td>97624</td>\n",
       "      <td>508339</td>\n",
       "      <td>241180</td>\n",
       "    </tr>\n",
       "    <tr>\n",
       "      <th>3</th>\n",
       "      <td>1988</td>\n",
       "      <td>1991</td>\n",
       "      <td>4</td>\n",
       "      <td>363137</td>\n",
       "      <td>220502</td>\n",
       "      <td>79690</td>\n",
       "      <td>508339</td>\n",
       "      <td>283447</td>\n",
       "    </tr>\n",
       "    <tr>\n",
       "      <th>4</th>\n",
       "      <td>1988</td>\n",
       "      <td>1992</td>\n",
       "      <td>5</td>\n",
       "      <td>346240</td>\n",
       "      <td>256564</td>\n",
       "      <td>48838</td>\n",
       "      <td>508339</td>\n",
       "      <td>297402</td>\n",
       "    </tr>\n",
       "  </tbody>\n",
       "</table>\n",
       "</div>"
      ],
      "text/plain": [
       "     ay    cy  dev  inc_loss  paid_loss  bulk_loss  earned_prem  rpt_loss\n",
       "0  1988  1988    1    295980      31447     167233       508339    128747\n",
       "1  1988  1989    2    315210      87470     119272       508339    195938\n",
       "2  1988  1990    3    338804     146807      97624       508339    241180\n",
       "3  1988  1991    4    363137     220502      79690       508339    283447\n",
       "4  1988  1992    5    346240     256564      48838       508339    297402"
      ]
     },
     "execution_count": 11,
     "metadata": {},
     "output_type": "execute_result"
    }
   ],
   "source": [
    "df = pd.read_csv(\"https://www.casact.org/sites/default/files/2021-04/othliab_pos.csv\")\n",
    "df.rename(columns={\n",
    "        'AccidentYear': 'ay',\n",
    "        'DevelopmentYear': 'cy',\n",
    "        'DevelopmentLag': 'dev',\n",
    "        'IncurLoss_h1': 'inc_loss',\n",
    "        'CumPaidLoss_h1': 'paid_loss',\n",
    "        'BulkLoss_h1': 'bulk_loss',\n",
    "        'EarnedPremNet_h1': 'earned_prem',\n",
    "    }\n",
    "          , inplace=True)\n",
    "df = df[['ay', 'cy', 'dev', 'inc_loss', 'paid_loss', 'bulk_loss', 'earned_prem']]\\\n",
    "        .groupby(['ay', 'cy', 'dev'])\\\n",
    "        .sum()\\\n",
    "        .reset_index()\n",
    "df['rpt_loss'] = df['inc_loss'] - df['bulk_loss']\n",
    "\n",
    "df.head()"
   ]
  },
  {
   "cell_type": "code",
   "execution_count": 12,
   "metadata": {},
   "outputs": [],
   "source": [
    "df.to_parquet('ol_loss.parquet')"
   ]
  },
  {
   "cell_type": "code",
   "execution_count": null,
   "metadata": {},
   "outputs": [],
   "source": []
  }
 ],
 "metadata": {
  "kernelspec": {
   "display_name": ".env",
   "language": "python",
   "name": "python3"
  },
  "language_info": {
   "codemirror_mode": {
    "name": "ipython",
    "version": 3
   },
   "file_extension": ".py",
   "mimetype": "text/x-python",
   "name": "python",
   "nbconvert_exporter": "python",
   "pygments_lexer": "ipython3",
   "version": "3.11.4"
  }
 },
 "nbformat": 4,
 "nbformat_minor": 2
}
